{
 "nbformat": 4,
 "nbformat_minor": 0,
 "metadata": {
  "colab": {
   "provenance": []
  },
  "kernelspec": {
   "name": "python3",
   "language": "python",
   "display_name": "Python 3 (ipykernel)"
  },
  "language_info": {
   "name": "python"
  }
 },
 "cells": [
  {
   "cell_type": "markdown",
   "source": [
    "# I. Змінні та памʼять."
   ],
   "metadata": {
    "id": "p9wwt0LZzNvn"
   }
  },
  {
   "cell_type": "markdown",
   "source": [
    "1. Створити змінні, що посилаються на два цілих числа, що однакові за значенням, де значення належить проміжку від -5 до 256. Перевірте, чи будуть ці змінні рівні тільки за значенням або ж ще будуть посилатися на один і той самий обʼєкт в памʼяті? Наведіть код та дайте текстову відповідь нижче."
   ],
   "metadata": {
    "id": "HTJrrm95xSV9"
   }
  },
  {
   "cell_type": "code",
   "execution_count": 6,
   "metadata": {
    "id": "TATni2vzayjG",
    "ExecuteTime": {
     "end_time": "2024-02-11T19:21:59.737203Z",
     "start_time": "2024-02-11T19:21:59.705892Z"
    }
   },
   "outputs": [
    {
     "name": "stdout",
     "output_type": "stream",
     "text": [
      "5=5\n",
      "same object\n"
     ]
    }
   ],
   "source": [
    "a=5\n",
    "b=5\n",
    "print(f'{a}={b}') if a==b else print(f'{a}!={b}')\n",
    "print(f'same object') if a is b else print('different objects')"
   ]
  },
  {
   "cell_type": "markdown",
   "source": [
    "Змінні рівні за значенням та посилаються на один і той самий об'єкт в пам'яті. Зроблено це для оптимізації пам'яті."
   ],
   "metadata": {
    "id": "zfRG_o3WbRdg"
   }
  },
  {
   "cell_type": "markdown",
   "source": [
    "2. За допомогою якої функції можна перевірити належність змінної до вказаного типу даних (напр. чи змінна True посилається на значення булевого та цілочисленого типу)?"
   ],
   "metadata": {
    "id": "ISORzt6M3vAt"
   }
  },
  {
   "cell_type": "code",
   "source": [
    "isinstance(True,bool)"
   ],
   "metadata": {
    "id": "9vL9CFaMbfyo",
    "ExecuteTime": {
     "end_time": "2024-02-11T19:24:44.991377Z",
     "start_time": "2024-02-11T19:24:44.483052Z"
    }
   },
   "execution_count": 7,
   "outputs": [
    {
     "data": {
      "text/plain": "True"
     },
     "execution_count": 7,
     "metadata": {},
     "output_type": "execute_result"
    }
   ]
  },
  {
   "cell_type": "markdown",
   "source": [
    "# II. Цілі числа та числа з рухомою комою"
   ],
   "metadata": {
    "id": "tRxugKAxwYLw"
   }
  },
  {
   "cell_type": "markdown",
   "source": [
    "3. Створити дві змінні, що посилаються на будь-які ціле число та число з рухомою комою та продемонструвати такі арифметичні операції: додавання, віднімання, ділення, множення, ділення без залишку, ділення по модулю, приведення до ступеню. Всі результати операцій вивести на екран."
   ],
   "metadata": {
    "id": "NLHkgd5Gybc8"
   }
  },
  {
   "cell_type": "code",
   "source": [
    "a=3\n",
    "b=2.5\n",
    "print(f'{a}+{b}=',a+b)\n",
    "print(f'{a}-{b}=',a-b)\n",
    "print(f'{a}/{b}=',a/b)\n",
    "print(f'{a}*{b}=',a/b)\n",
    "print(f'{a}//{b}=',a/b)\n",
    "print(f'{a}%{b}=',a/b)\n",
    "print(f'{a}^{b}=',a**b)\n"
   ],
   "metadata": {
    "id": "nb8u_3pjb2cA",
    "ExecuteTime": {
     "end_time": "2024-02-11T19:27:12.379656Z",
     "start_time": "2024-02-11T19:27:12.136202Z"
    }
   },
   "execution_count": 11,
   "outputs": [
    {
     "name": "stdout",
     "output_type": "stream",
     "text": [
      "3+2.5= 5.5\n",
      "3-2.5= 0.5\n",
      "3/2.5= 1.2\n",
      "3*2.5= 1.2\n",
      "3//2.5= 1.2\n",
      "3%2.5= 1.2\n",
      "3^2.5= 15.588457268119896\n"
     ]
    }
   ]
  },
  {
   "cell_type": "markdown",
   "source": [
    "4. Використовуючи змінні з вправи 3, продемонструйте механізм явного перетворення типів, де числа з рухомою комою перетворюються на цілі числа. Також визначте змінну, що посилається на значення булевого типу і спробуйте явно привести її до цілого числа."
   ],
   "metadata": {
    "id": "1kBClKgPzZnC"
   }
  },
  {
   "cell_type": "code",
   "source": [
    "a_float=float(a)\n",
    "print(f'explicit transformation of {a} to float = ',a_float)\n",
    "b_integer=int(b)\n",
    "print(f'explicit transformation of {b} to integer = ',b_integer)\n",
    "bool_var=False\n",
    "bool_var_int=int(bool_var)\n",
    "print(f'explicit transformation of {bool_var} to integer = ',bool_var_int)"
   ],
   "metadata": {
    "id": "TbqJbkeUcKsD",
    "ExecuteTime": {
     "end_time": "2024-02-11T19:31:44.671395Z",
     "start_time": "2024-02-11T19:31:44.630987Z"
    }
   },
   "execution_count": 15,
   "outputs": [
    {
     "name": "stdout",
     "output_type": "stream",
     "text": [
      "explicit transformation of 3 to float =  3.0\n",
      "explicit transformation of 2.5 to integer =  2\n",
      "explicit transformation of False to integer =  0\n"
     ]
    }
   ]
  },
  {
   "cell_type": "markdown",
   "source": [
    "# IІІ. Рядки (String)."
   ],
   "metadata": {
    "id": "EVJ7AflwxrZi"
   }
  },
  {
   "cell_type": "markdown",
   "source": [
    "5. Створити пустий рядок двома різними способами."
   ],
   "metadata": {
    "id": "_s5ECzz9zE61"
   }
  },
  {
   "cell_type": "code",
   "source": [
    "empty_1=''\n",
    "empty_2=str()\n",
    "print(len(empty_1))\n",
    "print(len(empty_2))"
   ],
   "metadata": {
    "id": "fkZJHu9Scvc-",
    "ExecuteTime": {
     "end_time": "2024-02-11T19:32:31.803365Z",
     "start_time": "2024-02-11T19:32:31.769103Z"
    }
   },
   "execution_count": 17,
   "outputs": [
    {
     "name": "stdout",
     "output_type": "stream",
     "text": [
      "0\n",
      "0\n"
     ]
    }
   ]
  },
  {
   "cell_type": "markdown",
   "source": [
    "6. Створити рядок з апострофом. Зробити його сирим. Вивести обидва рядка на екран."
   ],
   "metadata": {
    "id": "4Bdn9J3MzLf_"
   }
  },
  {
   "cell_type": "code",
   "source": [
    "string='hello\\''\n",
    "r_string=r'hello\\''\n",
    "print(string)\n",
    "print(r_string)"
   ],
   "metadata": {
    "id": "ivji_hsmc0GH",
    "ExecuteTime": {
     "end_time": "2024-02-11T19:36:58.847680Z",
     "start_time": "2024-02-11T19:36:58.722183Z"
    }
   },
   "execution_count": 19,
   "outputs": [
    {
     "name": "stdout",
     "output_type": "stream",
     "text": [
      "hello'\n",
      "hello\\'\n"
     ]
    }
   ]
  },
  {
   "cell_type": "markdown",
   "source": [
    "7. Створити змінну, що буде посилатися на Ваше прізвище латинкою. Створити форматований рядок, який буде мати вигляд \"My surname is ______\", де на місці нижніх підкреслень буде Ваше прізвище зі змінної."
   ],
   "metadata": {
    "id": "bg_d8wM4z8dS"
   }
  },
  {
   "cell_type": "code",
   "source": [
    "surname=\"Mishchenia\"\n",
    "format_string=f'My surname is {surname}'\n",
    "print(format_string)"
   ],
   "metadata": {
    "id": "kuxFgpWndACq",
    "ExecuteTime": {
     "end_time": "2024-02-11T19:38:20.259648Z",
     "start_time": "2024-02-11T19:38:20.154448Z"
    }
   },
   "execution_count": 20,
   "outputs": [
    {
     "name": "stdout",
     "output_type": "stream",
     "text": [
      "My surname is Mishchenia\n"
     ]
    }
   ]
  },
  {
   "cell_type": "markdown",
   "source": [
    "8. Маючи рядок \"My dog is crazy.\" перетворити його на список [\"my\", \"dog\", \"is\", \"crazy\"]"
   ],
   "metadata": {
    "id": "1Nc6RqvQ0hxU"
   }
  },
  {
   "cell_type": "code",
   "source": [
    "string=\"My dog is crazy.\"\n",
    "string=string[:-1]\n",
    "string=string.lower()\n",
    "split_string=string.split()\n",
    "print(split_string)"
   ],
   "metadata": {
    "id": "w1Ya4RqedUhw",
    "ExecuteTime": {
     "end_time": "2024-02-11T19:40:33.232689Z",
     "start_time": "2024-02-11T19:40:33.145381Z"
    }
   },
   "execution_count": 25,
   "outputs": [
    {
     "name": "stdout",
     "output_type": "stream",
     "text": [
      "['my', 'dog', 'is', 'crazy']\n"
     ]
    }
   ]
  },
  {
   "cell_type": "markdown",
   "source": [
    "# IV. Робота зі списками."
   ],
   "metadata": {
    "id": "GYVqN9uP1D4n"
   }
  },
  {
   "cell_type": "markdown",
   "source": [
    "9. Створити список двома різними за синтаксисом способами. За допомогою вбудованої функції обчисліть довжину одного з них."
   ],
   "metadata": {
    "id": "7-DeDunw2sO-"
   }
  },
  {
   "cell_type": "code",
   "source": [
    "list_1=[1,2,3,4,5]\n",
    "list_2=list(range(1,6))\n",
    "print(len(list_2))"
   ],
   "metadata": {
    "id": "zxg06Uuxdyoh",
    "ExecuteTime": {
     "end_time": "2024-02-11T19:43:58.603116Z",
     "start_time": "2024-02-11T19:43:58.505422Z"
    }
   },
   "execution_count": 26,
   "outputs": [
    {
     "name": "stdout",
     "output_type": "stream",
     "text": [
      "5\n"
     ]
    }
   ]
  },
  {
   "cell_type": "markdown",
   "source": [
    "10. Створіть два списка та за допомогою спеціального методу додайте другий з них в якості останнього елемента першого."
   ],
   "metadata": {
    "id": "8vmGUTjL22gI"
   }
  },
  {
   "cell_type": "code",
   "source": [
    "list_1=[1,2,3,4,5]\n",
    "list_2=list(range(1,6))\n",
    "#append\n",
    "list_1.append(list_2)\n",
    "print(list_1)\n",
    "\n",
    "list_1=[1,2,3,4,5]\n",
    "list_2=list(range(1,6))\n",
    "#extend\n",
    "list_1.extend(list_2)\n",
    "print(list_1)"
   ],
   "metadata": {
    "id": "uHtjWYw7d7hm",
    "ExecuteTime": {
     "end_time": "2024-02-11T19:45:58.446731Z",
     "start_time": "2024-02-11T19:45:58.423943Z"
    }
   },
   "execution_count": 31,
   "outputs": [
    {
     "name": "stdout",
     "output_type": "stream",
     "text": [
      "[1, 2, 3, 4, 5, [1, 2, 3, 4, 5]]\n",
      "[1, 2, 3, 4, 5, 1, 2, 3, 4, 5]\n"
     ]
    }
   ]
  },
  {
   "cell_type": "markdown",
   "source": [
    "11. Створіть список, де елементами цього списку також є списки. Отримай перший елемент з останнього рядка та виведи значення на екран."
   ],
   "metadata": {
    "id": "JC3BkD-67_--"
   }
  },
  {
   "cell_type": "code",
   "source": [
    "lists=[[1,2],[3,4],[5,6,7]]\n",
    "print(lists[-1][0])"
   ],
   "metadata": {
    "id": "Kz2jZHsGeLlz",
    "ExecuteTime": {
     "end_time": "2024-02-11T19:46:58.179370Z",
     "start_time": "2024-02-11T19:46:58.070230Z"
    }
   },
   "execution_count": 32,
   "outputs": [
    {
     "name": "stdout",
     "output_type": "stream",
     "text": [
      "5\n"
     ]
    }
   ]
  },
  {
   "cell_type": "markdown",
   "source": [
    "12. Створіть список з десяти елементів різного типу. Отримайте всі елементи, окрім двох перших та двох останніх та збережіть їх в новій змінній."
   ],
   "metadata": {
    "id": "JA47PKTv8zFK"
   }
  },
  {
   "cell_type": "code",
   "source": [
    "mix_list=[1,'hello',2.5,[1,2],True,(2,3),{'a':'b'},range(1,4),{1,2,3},complex(1,1)]\n",
    "print('mix list: ',mix_list)\n",
    "mix_list_crop=mix_list[2:-2]\n",
    "print('mix list without two first and last numbers: ',mix_list_crop)"
   ],
   "metadata": {
    "id": "_rHdUR-ueP4-",
    "ExecuteTime": {
     "end_time": "2024-02-11T19:52:45.306119Z",
     "start_time": "2024-02-11T19:52:45.258045Z"
    }
   },
   "execution_count": 36,
   "outputs": [
    {
     "name": "stdout",
     "output_type": "stream",
     "text": [
      "mix list:  [1, 'hello', 2.5, [1, 2], True, (2, 3), {'a': 'b'}, range(1, 4), {1, 2, 3}, (1+1j)]\n",
      "mix list without two first and last numbers:  [2.5, [1, 2], True, (2, 3), {'a': 'b'}, range(1, 4)]\n"
     ]
    }
   ]
  },
  {
   "cell_type": "markdown",
   "source": [
    "# V. Робота з кортежами."
   ],
   "metadata": {
    "id": "pCjR1dJb1Qbi"
   }
  },
  {
   "cell_type": "markdown",
   "source": [
    "14. Створити кортеж з один елементом."
   ],
   "metadata": {
    "id": "fAZCxAX06R_k"
   }
  },
  {
   "cell_type": "code",
   "source": [
    "one_element_tuple=1,\n",
    "print(one_element_tuple)"
   ],
   "metadata": {
    "id": "H7d82WkQev3e",
    "ExecuteTime": {
     "end_time": "2024-02-11T19:53:31.975094Z",
     "start_time": "2024-02-11T19:53:31.851200Z"
    }
   },
   "execution_count": 37,
   "outputs": [
    {
     "name": "stdout",
     "output_type": "stream",
     "text": [
      "(1,)\n"
     ]
    }
   ]
  },
  {
   "cell_type": "markdown",
   "source": [
    "15. Порівняйте список та кортеж. Назвіть схожості та відмінності, випадки використання."
   ],
   "metadata": {
    "id": "8LCtYcmI6w1M"
   }
  },
  {
   "cell_type": "markdown",
   "source": [
    "схожість:\n",
    "-можуть зберігати різні за типом елементи\n",
    "-ітерабельні, тобто по елементам списку та кортежа можна пройтись циклом for\n",
    "-підтримують індексацію та зрізи\n",
    "відмінності\n",
    "-списки є мутабельними(змінюються на місці), змінними, а кортежі - ні\n",
    "-синтаксис: елементи списка огортаються квадратними дужками, а кортежа - круглими\n",
    "-швидкість роботи кортежів краща, так як вони імутабельні\n",
    "випадки використання\n",
    "-списки: потрібно часто зміннювати, модифікувати елементи; потрібний широкий вибір методів, що надають списки\n",
    "-кортежі: потрібно захистити дані від випадкових змін; потрібен швидкий доступ до данних"
   ],
   "metadata": {
    "id": "fUsN1Hnue0C6"
   }
  },
  {
   "cell_type": "markdown",
   "source": [
    "16. Створіть кортеж з 11ти елементів чисел з рухомою комою та отримайте кожен парний за індексом елемент в зворотньому порядку. Наприклад, маючи (1.2, 2.3, 3.3, 4.3, 5.3, 6.3, 7.3, 8.3, 9.3, 0.3), отримати (0.3, 8.3, 6.3, 4.3, 2.3). Результат збережіть в нову змінну та виведіть на екран."
   ],
   "metadata": {
    "id": "m0xrwFijAmDD"
   }
  },
  {
   "cell_type": "code",
   "source": [
    "array=(1.2, 2.3, 3.3, 4.3, 5.3, 6.3, 7.3, 8.3, 9.3, 0.3,4.5)\n",
    "print(array[::-2])"
   ],
   "metadata": {
    "id": "p-5DAH6XfAGA",
    "ExecuteTime": {
     "end_time": "2024-02-11T20:04:24.666969Z",
     "start_time": "2024-02-11T20:04:24.646390Z"
    }
   },
   "execution_count": 46,
   "outputs": [
    {
     "name": "stdout",
     "output_type": "stream",
     "text": [
      "(4.5, 9.3, 7.3, 5.3, 3.3, 1.2)\n"
     ]
    }
   ]
  },
  {
   "cell_type": "markdown",
   "source": [
    "# VI. Множини (Set)."
   ],
   "metadata": {
    "id": "rW_I9dt3x6cW"
   }
  },
  {
   "cell_type": "markdown",
   "source": [
    "17. Створити множину без елементів. Після цого за допомогою методу додайте кілька різних елементів до множини. Чи множини є змінним типом даних?"
   ],
   "metadata": {
    "id": "zNjRLHLw1Bgg"
   }
  },
  {
   "cell_type": "code",
   "source": [
    "set_1=set()\n",
    "set_1.add(1)\n",
    "set_1.add(3)\n",
    "set_1.add(4)\n",
    "set_1"
   ],
   "metadata": {
    "id": "KOv7zc2Kfo4N",
    "ExecuteTime": {
     "end_time": "2024-02-11T20:06:07.864084Z",
     "start_time": "2024-02-11T20:06:07.766634Z"
    }
   },
   "execution_count": 49,
   "outputs": [
    {
     "data": {
      "text/plain": "{1, 3, 4}"
     },
     "execution_count": 49,
     "metadata": {},
     "output_type": "execute_result"
    }
   ]
  },
  {
   "cell_type": "markdown",
   "source": [
    "Так множини є змінним типом даних. для незмінної множини існує тип даних frozenset"
   ],
   "metadata": {
    "id": "vxS6dVYiftZQ"
   }
  },
  {
   "cell_type": "markdown",
   "source": [
    "18. Створити множину, маючи список my_list = [1, 1, 2, 67, 67, 8, 9]. Пояснити, чому \"зникли\" деякі елементи."
   ],
   "metadata": {
    "id": "gHpT0Zw_1HEF"
   }
  },
  {
   "cell_type": "code",
   "source": [
    "my_list = [1, 1, 2, 67, 67, 8, 9]\n",
    "my_set=set(my_list)\n",
    "print(my_set)"
   ],
   "metadata": {
    "id": "qCN4uvJ_fxmu",
    "ExecuteTime": {
     "end_time": "2024-02-11T20:08:26.042718Z",
     "start_time": "2024-02-11T20:08:26.016088Z"
    }
   },
   "execution_count": 51,
   "outputs": [
    {
     "name": "stdout",
     "output_type": "stream",
     "text": [
      "{1, 2, 67, 8, 9}\n"
     ]
    }
   ]
  },
  {
   "cell_type": "markdown",
   "source": [
    "Зникли повторні елементи, оскільки множина зберігає тільки унікальні елементи"
   ],
   "metadata": {
    "id": "tFNc1e20fyny"
   }
  },
  {
   "cell_type": "markdown",
   "source": [
    "19. Створіть дві множини. Продемонстуйте над ними операції: обʼєднання, різниці, пересічі та симетричної різниці. Використовуйте методи, що не змінюють множини, а створюють нові."
   ],
   "metadata": {
    "id": "SRMkGizS1UwY"
   }
  },
  {
   "cell_type": "code",
   "source": [
    "set1={1,25,45,34,23,46,76}\n",
    "set2={1,25,23,98,37,56,112}\n",
    "print('intersection: ',set1.intersection(set2))\n",
    "print('union: ',set1.union(set2))\n",
    "print('difference: ',set1.difference(set2))\n",
    "print('symmetric_difference: ',set1.symmetric_difference(set2))"
   ],
   "metadata": {
    "id": "h0T-VuDnf3Ri",
    "ExecuteTime": {
     "end_time": "2024-02-11T20:11:16.859973Z",
     "start_time": "2024-02-11T20:11:16.743213Z"
    }
   },
   "execution_count": 56,
   "outputs": [
    {
     "name": "stdout",
     "output_type": "stream",
     "text": [
      "intersection:  {1, 25, 23}\n",
      "union:  {1, 34, 98, 37, 76, 45, 46, 112, 23, 56, 25}\n",
      "difference:  {34, 76, 45, 46}\n",
      "symmetric_difference:  {98, 34, 37, 76, 45, 46, 112, 56}\n"
     ]
    }
   ]
  },
  {
   "cell_type": "markdown",
   "source": [
    "# VII. Словники (Dictionary)."
   ],
   "metadata": {
    "id": "kWc8gkzTx7Ea"
   }
  },
  {
   "cell_type": "markdown",
   "source": [
    "20. Створіть пустий словник. До нього додайте чотири пари елементів такі, щоб їхні ключі були різних типів. Чи може список бути ключем? Чому?"
   ],
   "metadata": {
    "id": "i5FLwj-B2ybQ"
   }
  },
  {
   "cell_type": "code",
   "source": [
    "dictionary={}\n",
    "dictionary[1]='one'\n",
    "dictionary[1.5]='one and a half'\n",
    "dictionary['name']='name'\n",
    "dictionary[(1,2)]='one and two'\n",
    "print('dictionary: ',dictionary)"
   ],
   "metadata": {
    "id": "hxgv3BzrgLAV",
    "ExecuteTime": {
     "end_time": "2024-02-11T20:13:10.935288Z",
     "start_time": "2024-02-11T20:13:10.854955Z"
    }
   },
   "execution_count": 57,
   "outputs": [
    {
     "name": "stdout",
     "output_type": "stream",
     "text": [
      "dictionary:  {1: 'one', 1.5: 'one and a half', 'name': 'name', (1, 2): 'one and two'}\n"
     ]
    }
   ]
  },
  {
   "cell_type": "markdown",
   "source": [
    "список не може бути ключем словника, так як ключами словника повині бути незмінні типи даних, а список - це змінний тип даних"
   ],
   "metadata": {
    "id": "zwa7UVN-gR3m"
   }
  },
  {
   "cell_type": "markdown",
   "source": [
    "21. Створіть словник, де значенням в одній з пар теж буде словник, який теж має вкладений словник. Виведіть на екран значення, що міститься в словнику, що знаходиться на найнижчому рівні ієрархії вкладеності (найбільш внутрішній)."
   ],
   "metadata": {
    "id": "WM_pMlJsgoNf"
   }
  },
  {
   "cell_type": "code",
   "source": [
    "dictionary={'first level':{'second level':'hello world'},'other':'python'}\n",
    "print(dictionary['first level']['second level'])"
   ],
   "metadata": {
    "id": "60dlP7IHhAy4",
    "ExecuteTime": {
     "end_time": "2024-02-11T20:16:27.618003Z",
     "start_time": "2024-02-11T20:16:27.550541Z"
    }
   },
   "execution_count": 59,
   "outputs": [
    {
     "name": "stdout",
     "output_type": "stream",
     "text": [
      "hello world\n"
     ]
    }
   ]
  },
  {
   "cell_type": "markdown",
   "source": [
    "# Вітаю! Ви велика(ий) молодець, що впоралась(вся). Похваліть себе та побалуйте чимось приємним. Я Вами пишаюся."
   ],
   "metadata": {
    "id": "xOZP0hkx6cCr"
   }
  }
 ]
}
