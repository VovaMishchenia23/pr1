{
 "nbformat": 4,
 "nbformat_minor": 0,
 "metadata": {
  "colab": {
   "provenance": []
  },
  "kernelspec": {
   "name": "python3",
   "language": "python",
   "display_name": "Python 3 (ipykernel)"
  },
  "language_info": {
   "name": "python"
  }
 },
 "cells": [
  {
   "cell_type": "markdown",
   "source": [
    "# I. Functions. Arguments."
   ],
   "metadata": {
    "id": "kXpppdVm6wFy"
   }
  },
  {
   "cell_type": "markdown",
   "source": [
    "1. (5б) Назвіть основні 4 смислові  частини, з яких складається функція."
   ],
   "metadata": {
    "id": "u_krJdlbAkVz"
   }
  },
  {
   "cell_type": "markdown",
   "source": [
    "Назва функції, тіло функції, аргументи, те що функція повертає"
   ],
   "metadata": {
    "id": "KKTrTXmHAptb"
   }
  },
  {
   "cell_type": "markdown",
   "source": [
    "2. (3б) Визначте функцію, що приймає 2 аргументи та повертає результат ділення 1го аргумента на інший."
   ],
   "metadata": {
    "id": "ORM4PqJQAtDM"
   }
  },
  {
   "cell_type": "code",
   "execution_count": 2,
   "metadata": {
    "id": "EuDx-z8M6sLo",
    "ExecuteTime": {
     "end_time": "2024-02-26T20:39:12.398451Z",
     "start_time": "2024-02-26T20:39:12.365178Z"
    }
   },
   "outputs": [
    {
     "name": "stdout",
     "output_type": "stream",
     "text": [
      "0.5\n"
     ]
    }
   ],
   "source": [
    "def division(a,b):\n",
    "    return a/b\n",
    "print(division(1,2))"
   ]
  },
  {
   "cell_type": "markdown",
   "source": [
    "3. (2б) Викличте вище визначену функцію, де другий аргумент дорівнює 0."
   ],
   "metadata": {
    "id": "5joQGQ-SAyMe"
   }
  },
  {
   "cell_type": "code",
   "source": [
    "division(1,0)"
   ],
   "metadata": {
    "id": "V5cBV1LOA3d-",
    "ExecuteTime": {
     "end_time": "2024-02-26T20:39:51.838850Z",
     "start_time": "2024-02-26T20:39:51.533802Z"
    }
   },
   "execution_count": 3,
   "outputs": [
    {
     "ename": "ZeroDivisionError",
     "evalue": "division by zero",
     "output_type": "error",
     "traceback": [
      "\u001B[0;31m---------------------------------------------------------------------------\u001B[0m",
      "\u001B[0;31mZeroDivisionError\u001B[0m                         Traceback (most recent call last)",
      "Cell \u001B[0;32mIn[3], line 1\u001B[0m\n\u001B[0;32m----> 1\u001B[0m \u001B[43mdivision\u001B[49m\u001B[43m(\u001B[49m\u001B[38;5;241;43m1\u001B[39;49m\u001B[43m,\u001B[49m\u001B[38;5;241;43m0\u001B[39;49m\u001B[43m)\u001B[49m\n",
      "Cell \u001B[0;32mIn[2], line 2\u001B[0m, in \u001B[0;36mdivision\u001B[0;34m(a, b)\u001B[0m\n\u001B[1;32m      1\u001B[0m \u001B[38;5;28;01mdef\u001B[39;00m \u001B[38;5;21mdivision\u001B[39m(a,b):\n\u001B[0;32m----> 2\u001B[0m     \u001B[38;5;28;01mreturn\u001B[39;00m \u001B[43ma\u001B[49m\u001B[38;5;241;43m/\u001B[39;49m\u001B[43mb\u001B[49m\n",
      "\u001B[0;31mZeroDivisionError\u001B[0m: division by zero"
     ]
    }
   ]
  },
  {
   "cell_type": "markdown",
   "source": [
    "4. (4б) Перевизначте функцію так, щоби у випадку ділення на 0 функція повертала None, а в решті випадків - результат розрахунків."
   ],
   "metadata": {
    "id": "QyimWgW8A43-"
   }
  },
  {
   "cell_type": "code",
   "source": [
    "def division(a,b):\n",
    "    if b==0:\n",
    "        return None\n",
    "    return a/b\n",
    "print(division(1,0))"
   ],
   "metadata": {
    "id": "7VIODtSjA8Ek",
    "ExecuteTime": {
     "end_time": "2024-02-26T20:41:34.663379Z",
     "start_time": "2024-02-26T20:41:34.587555Z"
    }
   },
   "execution_count": 6,
   "outputs": [
    {
     "name": "stdout",
     "output_type": "stream",
     "text": [
      "None\n"
     ]
    }
   ]
  },
  {
   "cell_type": "markdown",
   "source": [
    "5. (5б) Визначте функцію, що віднімає одне число від іншого (підказка: це буде 2 аргументи функції). При чому, якщо не визначити, скільки саме має бути віднято від числа, за замовчуванням має відніматися 1. Викличте функцію, передаючи тільки один аргумент."
   ],
   "metadata": {
    "id": "Y8mN0GfkA81l"
   }
  },
  {
   "cell_type": "code",
   "source": [
    "def diff(a,b=1):\n",
    "    return a-b\n",
    "print(diff(5))"
   ],
   "metadata": {
    "id": "vg1kxkdgBA50",
    "ExecuteTime": {
     "end_time": "2024-02-27T15:41:26.552963Z",
     "start_time": "2024-02-27T15:41:26.455785Z"
    }
   },
   "execution_count": 6,
   "outputs": [
    {
     "name": "stdout",
     "output_type": "stream",
     "text": [
      "4\n"
     ]
    }
   ]
  },
  {
   "cell_type": "markdown",
   "source": [
    "6. (7б) Визначте функцію, яка приймає iterable (ітерабельний обʼєкт, напр. список), що складається з 7ми рядкових значень - назв погодних умов (напр. \"sunny\") за кожен день у тижні. Повертає функція словник, де ключами є рядки з погодними умовами, а значеннями - кількість разів, скільки дана погода була протягом тижня (напр. {'sunny': 1, ...}). Викличте цю функцію та виведіть результат її роботи на екран."
   ],
   "metadata": {
    "id": "D3mwQGNOBBs4"
   }
  },
  {
   "cell_type": "code",
   "source": [
    "def countWeather(array):\n",
    "    dictionary={weather:array.count(weather) for weather in set(array) }\n",
    "    return dictionary\n",
    "print(countWeather(['sunny','dark','dark','cloudy','dark','rainy','sunny']))"
   ],
   "metadata": {
    "id": "OsWm-hKcBFyn",
    "ExecuteTime": {
     "end_time": "2024-02-26T20:48:40.505627Z",
     "start_time": "2024-02-26T20:48:40.333480Z"
    }
   },
   "execution_count": 8,
   "outputs": [
    {
     "name": "stdout",
     "output_type": "stream",
     "text": [
      "{'rainy': 1, 'cloudy': 1, 'sunny': 2, 'dark': 3}\n"
     ]
    }
   ]
  },
  {
   "cell_type": "markdown",
   "source": [
    "7. (15б) Напишіть програму, яка б шукала необхідне число у впорядкованому списку цілочислених значень, де\n",
    "число має вводитись з консолі.\n",
    "власне алгоритм пошуку винесений в окрему функцію, яка повертає булеве значення (знайдено число - True, не знайдено - False).\n",
    "в залежності від результату функції, виведіть на екран повідомлення про успішний або ж неуспішний пошук.\n",
    "Зауваження: використовувати оператор in заборонено."
   ],
   "metadata": {
    "id": "RMiCcdOsBKQT"
   }
  },
  {
   "cell_type": "code",
   "source": [
    "def find_number(array,num):\n",
    "     left = 0\n",
    "     right = len(array) - 1\n",
    "     while left <= right:\n",
    "         mid = (left + right) // 2\n",
    "         if array[mid] == num:\n",
    "             return True\n",
    "         elif array[mid] < num:\n",
    "             left = mid + 1\n",
    "         else:\n",
    "             right = mid - 1\n",
    "     return False\n",
    "new_list=list(range(0,15))\n",
    "number_to_find=int(input('Enter number: '))\n",
    "if find_number(new_list,number_to_find):\n",
    "    print('number was found in list')\n",
    "else:\n",
    "    print('number was\\'nt found in list')"
   ],
   "metadata": {
    "id": "UNCZg65OBOy-",
    "ExecuteTime": {
     "end_time": "2024-02-26T20:55:08.239704Z",
     "start_time": "2024-02-26T20:55:06.039420Z"
    }
   },
   "execution_count": 11,
   "outputs": [
    {
     "name": "stdout",
     "output_type": "stream",
     "text": [
      "number was'nt found in list\n"
     ]
    }
   ]
  },
  {
   "cell_type": "markdown",
   "source": [
    "# II. Lambda functions."
   ],
   "metadata": {
    "id": "Ae1n_OvLBTsy"
   }
  },
  {
   "cell_type": "markdown",
   "source": [
    "8. (4б) В яких випадках варто використовувати лямбда-функції?"
   ],
   "metadata": {
    "id": "xaD_wSlaCWen"
   }
  },
  {
   "cell_type": "markdown",
   "source": [
    "тоді коли потрібно використати невелику функцію одноразово і ніде більше в коді"
   ],
   "metadata": {
    "id": "42MB6OoLCakR"
   }
  },
  {
   "cell_type": "markdown",
   "source": [
    "9. (9б) Визначте список з рядками. Після цього визначте анонімну функцію для отримання першого символу у верхньому регістрі для кожного рядка списку.\n",
    "Підказка: використовуйте анонімну функцію в якості агрумента до вбудованої ф-ції, яка створена для застосування функцій над iterable обʼєктами. Результат виведіть на екран у вигляді кортежу."
   ],
   "metadata": {
    "id": "USrzrk7GCedk"
   }
  },
  {
   "cell_type": "code",
   "source": [
    "strings=['one','two','three','four','five']\n",
    "uppers=tuple(map(lambda x: x.upper()[0],strings))\n",
    "print(uppers)"
   ],
   "metadata": {
    "id": "M8QWUsMlCjWH",
    "ExecuteTime": {
     "end_time": "2024-02-26T20:59:28.819535Z",
     "start_time": "2024-02-26T20:59:28.737067Z"
    }
   },
   "execution_count": 12,
   "outputs": [
    {
     "name": "stdout",
     "output_type": "stream",
     "text": [
      "('O', 'T', 'T', 'F', 'F')\n"
     ]
    }
   ]
  },
  {
   "cell_type": "markdown",
   "source": [
    "10. (10б) Визначте список з числовими значеннями (і цілими, і з рухомою комою). а) Відфільтруйте всі числа, які діляться націло на 3 за допомогою вбудованої функції та анонімної функції в якості аргумента). Збережіть результат у змінній, не приводяти явно до будь-якого типу. б) Використовуючи результат на кроці 12.а у якості аргументу, та за допомогою лямбда-функції в якості іншого аргументу до вбудованої функції, додайте до кожного елементу число 1 та опісля зведіть у квадрат. Остаточний результат приведіть явно до списку та виведіть на екран."
   ],
   "metadata": {
    "id": "9fyUhXOoCtGp"
   }
  },
  {
   "cell_type": "code",
   "source": [
    "array = list(range(0,10))\n",
    "filtered_array = filter(lambda x: x % 3 == 0, array)\n",
    "resulted_array = list(map(lambda x: (x + 1) ** 2, filtered_array))\n",
    "print(resulted_array)"
   ],
   "metadata": {
    "id": "exEx2_okCsql",
    "ExecuteTime": {
     "end_time": "2024-02-27T15:36:07.115858Z",
     "start_time": "2024-02-27T15:36:07.071737Z"
    }
   },
   "execution_count": 1,
   "outputs": [
    {
     "name": "stdout",
     "output_type": "stream",
     "text": [
      "[1, 16, 49, 100]\n"
     ]
    }
   ]
  },
  {
   "cell_type": "markdown",
   "source": [
    "# III. Decorators."
   ],
   "metadata": {
    "id": "o_x8cG_WC7jp"
   }
  },
  {
   "cell_type": "markdown",
   "source": [
    "11. (11б) Визначте декоратор, який би виводив у консоль повідомлення про початок роботи і назву функції (напр. my_function._ _ name _ _), а після відпрацювання функції - повідомлення про закінчення роботи і назву функції, що задекорована."
   ],
   "metadata": {
    "id": "mhxS4-mfC8LQ"
   }
  },
  {
   "cell_type": "code",
   "source": [
    "def custom_decorator(original_function):\n",
    "    def modified_function(*arguments, **keyword_arguments):\n",
    "        print(f\"Start of {original_function.__name__}'s execution\")\n",
    "        result = original_function(*arguments, **keyword_arguments)\n",
    "        print(f\"End of {original_function.__name__}'s execution\")\n",
    "        return result\n",
    "    return modified_function\n",
    "\n",
    "@custom_decorator\n",
    "def test_function():\n",
    "    print(\"Custom Function\")\n",
    "\n",
    "test_function()"
   ],
   "metadata": {
    "id": "srd1ygWjDGhO",
    "ExecuteTime": {
     "end_time": "2024-02-27T15:38:56.921319Z",
     "start_time": "2024-02-27T15:38:56.721048Z"
    }
   },
   "execution_count": 2,
   "outputs": [
    {
     "name": "stdout",
     "output_type": "stream",
     "text": [
      "Start of test_function's execution\n",
      "Custom Function\n",
      "End of test_function's execution\n"
     ]
    }
   ]
  },
  {
   "cell_type": "markdown",
   "source": [
    "12. (4б) Задекоруйте двома різними способами функції з завдання 4 та 5 декоратором із завдання 11. (**УВАГА**: не декоруйте функції двічі!)."
   ],
   "metadata": {
    "id": "rxGZwVBiDph3"
   }
  },
  {
   "cell_type": "code",
   "source": [
    "\n",
    "@custom_decorator\n",
    "def division(arg1, arg2):\n",
    "    if arg2 != 0:\n",
    "        return arg1 / arg2\n",
    "    return None\n",
    "difference = custom_decorator(diff)\n",
    "division(1,2)\n",
    "difference(1,2)"
   ],
   "metadata": {
    "id": "06lj7eq_DwZe",
    "ExecuteTime": {
     "end_time": "2024-02-27T15:42:11.629872Z",
     "start_time": "2024-02-27T15:42:11.505032Z"
    }
   },
   "execution_count": 9,
   "outputs": [
    {
     "name": "stdout",
     "output_type": "stream",
     "text": [
      "Start of division's execution\n",
      "End of division's execution\n",
      "Start of diff's execution\n",
      "End of diff's execution\n"
     ]
    },
    {
     "data": {
      "text/plain": "-1"
     },
     "execution_count": 9,
     "metadata": {},
     "output_type": "execute_result"
    }
   ]
  },
  {
   "cell_type": "markdown",
   "source": [
    "13. (2б) Викличте одну з задекорованих функцій і виведіть її результат на екран."
   ],
   "metadata": {
    "id": "P0ep1urBDzf-"
   }
  },
  {
   "cell_type": "code",
   "source": [
    "division(1,2)"
   ],
   "metadata": {
    "id": "1QvTw0ctD0S3",
    "ExecuteTime": {
     "end_time": "2024-02-27T15:44:00.894737Z",
     "start_time": "2024-02-27T15:44:00.196295Z"
    }
   },
   "execution_count": 10,
   "outputs": [
    {
     "name": "stdout",
     "output_type": "stream",
     "text": [
      "Start of division's execution\n",
      "End of division's execution\n"
     ]
    },
    {
     "data": {
      "text/plain": "0.5"
     },
     "execution_count": 10,
     "metadata": {},
     "output_type": "execute_result"
    }
   ]
  },
  {
   "cell_type": "markdown",
   "source": [
    "# IV. Recursion."
   ],
   "metadata": {
    "id": "poECCpuoD2S9"
   }
  },
  {
   "cell_type": "markdown",
   "source": [
    "14. (4б) Назвіть дві частини функції, які є обовʼязковими для того, щоб називати її рекурсивною."
   ],
   "metadata": {
    "id": "DqkURfdsD7MY"
   }
  },
  {
   "cell_type": "markdown",
   "source": [
    "функція викликає сама себе, є умова для зупинки рекурсії"
   ],
   "metadata": {
    "id": "HYW6ttIeIQIU"
   }
  },
  {
   "cell_type": "markdown",
   "source": [
    "15. (15б) Визначте функцію, яка рекурсивно реалізовує пошук числа у послідовності Фібоначчі за її індексом (нумерація починається з нуля). Наприклад, потрібно знайти перше число у послідовності, тоді функція прийматиме 0 у якості аргумента і повертатиме 1, якщо ж знаходити третє число (індекс 2) послідовності, то функція повертатиме 2, якщо ж знаходити десяте число (індекс 9), то функція повертатиме 55."
   ],
   "metadata": {
    "id": "WYVt20UmEA35"
   }
  },
  {
   "cell_type": "code",
   "source": [
    "def fibonacci(number):\n",
    "     if number == 0:\n",
    "         return 1\n",
    "     elif number == 1:\n",
    "         return 1\n",
    "     else:\n",
    "         return fibonacci(number-2)+fibonacci(number-1)\n",
    "\n",
    "fibonacci(5)"
   ],
   "metadata": {
    "id": "xIMhp05AIpV_",
    "ExecuteTime": {
     "end_time": "2024-02-27T15:48:19.421132Z",
     "start_time": "2024-02-27T15:48:19.372382Z"
    }
   },
   "execution_count": 14,
   "outputs": [
    {
     "data": {
      "text/plain": "8"
     },
     "execution_count": 14,
     "metadata": {},
     "output_type": "execute_result"
    }
   ]
  },
  {
   "cell_type": "markdown",
   "source": [
    "# Вітаю! Ви велика(ий) молодець, що впоралась(вся). Похваліть себе та побалуйте чимось приємним. Я Вами пишаюся."
   ],
   "metadata": {
    "id": "ytXC8n_4Ip0W"
   }
  }
 ]
}
